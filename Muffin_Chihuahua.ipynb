{
  "cells": [
    {
      "cell_type": "code",
      "execution_count": null,
      "metadata": {
        "id": "5VbtACNF1kiU"
      },
      "outputs": [],
      "source": [
        "import torch\n",
        "import torch.nn as nn\n",
        "import torch.optim as optim\n",
        "from torch.optim import lr_scheduler\n",
        "import matplotlib.pyplot as plt\n",
        "import numpy as np\n",
        "import os\n",
        "\n",
        "from PIL import Image\n",
        "\n",
        "import time\n",
        "import copy\n",
        "import torchvision\n",
        "from torchvision import datasets, models, transforms, utils\n",
        "import torchvision.transforms as transforms\n",
        "\n",
        "import seaborn as sn\n",
        "import pandas as pd\n",
        "from sklearn.metrics import confusion_matrix"
      ]
    },
    {
      "cell_type": "code",
      "execution_count": 2,
      "metadata": {
        "colab": {
          "base_uri": "https://localhost:8080/"
        },
        "id": "mu6UNWzkeL5s",
        "outputId": "4d854bab-dcec-4860-a768-3829dfa05e5e"
      },
      "outputs": [
        {
          "output_type": "stream",
          "name": "stdout",
          "text": [
            "Mounted at /content/drive/\n",
            "/content/drive/My Drive/CAIS++/WinterProj\n"
          ]
        }
      ],
      "source": [
        "# Giving Colab access to the Drive\n",
        "from google.colab import drive\n",
        "drive.mount('/content/drive/')\n",
        "%cd /content/drive/My Drive/CAIS++/WinterProj/"
      ]
    },
    {
      "cell_type": "code",
      "execution_count": null,
      "metadata": {
        "collapsed": true,
        "id": "-hLOEt3xEgO4"
      },
      "outputs": [],
      "source": [
        "x=0\n",
        "tdir = '/content/drive/My Drive/CAIS++/WinterProj/archive/test/muffin/'\n",
        "vdir='/content/drive/My Drive/CAIS++/WinterProj/archive/valid/muffin/'\n",
        "\n",
        "for filename in os.listdir(tdir):\n",
        "  if x%2==0:\n",
        "    os.rename(tdir+filename, vdir+filename) # Move half of the images from the test set to create a valid set\n",
        "  x=x+1"
      ]
    },
    {
      "cell_type": "code",
      "execution_count": null,
      "metadata": {
        "colab": {
          "base_uri": "https://localhost:8080/"
        },
        "id": "sudFdUdPB20h",
        "outputId": "7e9588f9-a60e-4b7f-e95a-ffca1bb50e02"
      },
      "outputs": [
        {
          "output_type": "execute_result",
          "data": {
            "text/plain": [
              "Dataset ImageFolder\n",
              "    Number of datapoints: 592\n",
              "    Root location: /content/drive/My Drive/CAIS++/WinterProj/archive/test/\n",
              "    StandardTransform\n",
              "Transform: Compose(\n",
              "               Resize(size=(224, 224), interpolation=bilinear, max_size=None, antialias=None)\n",
              "               ToTensor()\n",
              "               Normalize(mean=(0.6509803921568628, 0.6078431372549019, 0.5529411764705883), std=(0.23137254901960785, 0.22745098039215686, 0.20392156862745098))\n",
              "           )"
            ]
          },
          "metadata": {},
          "execution_count": 31
        }
      ],
      "source": [
        "batch_size = 32\n",
        "\n",
        "normalize_mean = (166/255, 155/255, 141/255) # Taken from only part of the dataset, since the dataset is too large the code never stopped\n",
        "normalize_std = (59/255, 58/255, 52/255)\n",
        "\n",
        "print(normalize_mean)\n",
        "print(normalize_std)\n",
        "\n",
        "transform = transforms.Compose(\n",
        "    [transforms.Resize((224,224)),transforms.ToTensor(),\n",
        "     transforms.Normalize((0.6509803921568628, 0.6078431372549019, 0.5529411764705883), (0.23137254901960785, 0.22745098039215686, 0.20392156862745098))]) \n",
        "\n",
        "# ^ Resizes all images to 224 and 224 and normalizes them to fit in the range 0 to 1\n",
        "\n",
        "valid_data_dir = r'/content/drive/My Drive/CAIS++/WinterProj/archive/valid/'\n",
        "train_data_dir = r'/content/drive/My Drive/CAIS++/WinterProj/archive/train/'\n",
        "test_data_dir = r'/content/drive/My Drive/CAIS++/WinterProj/archive/test/'\n",
        "\n",
        "train_dataset = datasets.ImageFolder(train_data_dir, transform=transform) # Create datasets from folders\n",
        "valid_dataset = datasets.ImageFolder(train_data_dir, transform=transform)\n",
        "test_dataset = datasets.ImageFolder(test_data_dir, transform=transform)\n",
        "\n",
        "train_loader = torch.utils.data.DataLoader(train_dataset, batch_size, shuffle=True) # Load them into dataloaders\n",
        "valid_loader = torch.utils.data.DataLoader(valid_dataset, batch_size, shuffle=True)\n",
        "test_loader = torch.utils.data.DataLoader(test_dataset, batch_size, shuffle = True)\n",
        "\n",
        "data_loaders = {\"train\":train_loader, \"valid\":valid_loader}\n",
        "dataset_sizes = {\"train\":len(train_dataset), \"valid\":len(valid_dataset)}\n",
        "\n",
        "class_names = ['chihuahua','muffin']\n",
        "\n",
        "test_dataset"
      ]
    },
    {
      "cell_type": "code",
      "execution_count": null,
      "metadata": {
        "id": "aF31Ue1oO7QA"
      },
      "outputs": [],
      "source": [
        "# use GPU if available\n",
        "device = torch.device(\"cuda:0\" if torch.cuda.is_available() else \"cpu\")"
      ]
    },
    {
      "cell_type": "code",
      "execution_count": null,
      "metadata": {
        "id": "F1jmX4ruvM_8"
      },
      "outputs": [],
      "source": [
        "# load the resnet model\n",
        "\n",
        "############### YOUR CODE STARTS HERE ###############\n",
        "model_ft = models.resnet18(pretrained=True)\n",
        "\n",
        "# find the input size of the FC layers\n",
        "num_features = model_ft.fc.in_features\n",
        "# modify the FC layer to output 2, and the input should be...?\n",
        "model_ft.fc = nn.Linear(num_features, 2)\n",
        "\n",
        "# save model to device\n",
        "model_ft = model_ft.to(device)\n",
        "\n",
        "# define loss for classification\n",
        "criterion = nn.CrossEntropyLoss() # Binary problem (x) \n",
        "\n",
        "\n",
        "# define whatever optimizer you want! (TODO: Fill in ____ and blanks)\n",
        "optimizer_ft = optim.Adam(model_ft.parameters())\n",
        "############### YOUR CODE ENDS HERE ###############\n",
        "\n",
        "# decay your learning rate across epochs-- this helps our model converge better and prevents overshooting a local minima\n",
        "exp_lr_scheduler = lr_scheduler.StepLR(optimizer_ft, step_size=7, gamma=0.1)"
      ]
    },
    {
      "cell_type": "code",
      "execution_count": null,
      "metadata": {
        "id": "HlZ0K0OIv34j"
      },
      "outputs": [],
      "source": [
        "# Train model definition\n",
        "def train_model(model, criterion, optimizer, scheduler, num_epochs=25):\n",
        "    since = time.time()\n",
        "\n",
        "    best_model_wts = copy.deepcopy(model.state_dict())\n",
        "    best_acc = 0.0\n",
        "\n",
        "    for epoch in range(num_epochs):\n",
        "        print(f'Epoch {epoch}/{num_epochs - 1}')\n",
        "        print('-' * 10)\n",
        "\n",
        "        # Each epoch has a training and validation phase\n",
        "        for phase in ['train', 'valid']:\n",
        "            if phase == 'train':\n",
        "                model.train()  # Set model to training mode\n",
        "            else:\n",
        "                model.eval()   # Set model to evaluate mode\n",
        "\n",
        "            running_loss = 0.0\n",
        "            running_corrects = 0\n",
        "\n",
        "            # Iterate over data.\n",
        "            print_frequency = 10\n",
        "            for index, (inputs, labels) in enumerate(data_loaders[phase]):\n",
        "                inputs = inputs.to(device)\n",
        "                labels = labels.to(device)\n",
        "\n",
        "                # zero the parameter gradients\n",
        "                optimizer.zero_grad()\n",
        "\n",
        "                # forward\n",
        "                # track history if only in train\n",
        "                with torch.set_grad_enabled(phase == 'train'):\n",
        "                    outputs = model(inputs)\n",
        "                    _, preds = torch.max(outputs, 1)\n",
        "                    loss = criterion(outputs, labels)\n",
        "\n",
        "                    # backward + optimize only if in training phase\n",
        "                    if phase == 'train':\n",
        "                        loss.backward()\n",
        "                        optimizer.step()\n",
        "\n",
        "                # statistics\n",
        "                running_loss += loss.item() * inputs.size(0)\n",
        "                running_corrects += torch.sum(preds == labels.data)\n",
        "\n",
        "                # if index % print_frequency == 0:\n",
        "                #   print(f\"{index} loss: {running_loss}\")\n",
        "\n",
        "            if phase == 'train':\n",
        "                scheduler.step()\n",
        "\n",
        "            epoch_loss = running_loss / dataset_sizes[phase]\n",
        "            epoch_acc = running_corrects.double() / dataset_sizes[phase]\n",
        "\n",
        "            print(f'{phase} Loss: {epoch_loss:.4f} Acc: {epoch_acc:.4f}')\n",
        "\n",
        "            # deep copy the model\n",
        "            if phase == 'valid' and epoch_acc > best_acc:\n",
        "                best_acc = epoch_acc\n",
        "                best_model_wts = copy.deepcopy(model.state_dict())\n",
        "        print()\n",
        "\n",
        "    time_elapsed = time.time() - since\n",
        "    print(f'Training complete in {time_elapsed // 60:.0f}m {time_elapsed % 60:.0f}s')\n",
        "    print(f'Best val Acc: {best_acc:4f}')\n",
        "\n",
        "    # load best model weights\n",
        "    model.load_state_dict(best_model_wts)\n",
        "    return model"
      ]
    },
    {
      "cell_type": "code",
      "execution_count": null,
      "metadata": {
        "colab": {
          "base_uri": "https://localhost:8080/"
        },
        "id": "LFhrXOw_v_dX",
        "outputId": "0f557044-237c-421c-b7bb-9da5abd13db6"
      },
      "outputs": [
        {
          "output_type": "stream",
          "name": "stdout",
          "text": [
            "Epoch 0/9\n",
            "----------\n",
            "train Loss: 0.1556 Acc: 0.9449\n",
            "valid Loss: 0.0804 Acc: 0.9687\n",
            "\n",
            "Epoch 1/9\n",
            "----------\n",
            "train Loss: 0.0613 Acc: 0.9784\n",
            "valid Loss: 0.0445 Acc: 0.9844\n",
            "\n",
            "Epoch 2/9\n",
            "----------\n",
            "train Loss: 0.0727 Acc: 0.9761\n",
            "valid Loss: 0.1729 Acc: 0.9406\n",
            "\n",
            "Epoch 3/9\n",
            "----------\n",
            "train Loss: 0.0666 Acc: 0.9751\n",
            "valid Loss: 0.0585 Acc: 0.9768\n",
            "\n",
            "Epoch 4/9\n",
            "----------\n",
            "train Loss: 0.0544 Acc: 0.9820\n",
            "valid Loss: 0.0949 Acc: 0.9582\n",
            "\n",
            "Epoch 5/9\n",
            "----------\n",
            "train Loss: 0.0321 Acc: 0.9882\n",
            "valid Loss: 0.0090 Acc: 0.9973\n",
            "\n",
            "Epoch 6/9\n",
            "----------\n",
            "train Loss: 0.0381 Acc: 0.9865\n",
            "valid Loss: 0.0270 Acc: 0.9915\n",
            "\n",
            "Epoch 7/9\n",
            "----------\n",
            "train Loss: 0.0128 Acc: 0.9958\n",
            "valid Loss: 0.0037 Acc: 0.9994\n",
            "\n",
            "Epoch 8/9\n",
            "----------\n",
            "train Loss: 0.0055 Acc: 0.9985\n",
            "valid Loss: 0.0021 Acc: 0.9996\n",
            "\n",
            "Epoch 9/9\n",
            "----------\n",
            "train Loss: 0.0039 Acc: 0.9987\n",
            "valid Loss: 0.0015 Acc: 0.9996\n",
            "\n",
            "Training complete in 31m 27s\n",
            "Best val Acc: 0.999577\n"
          ]
        }
      ],
      "source": [
        "# Call the train model function\n",
        "model_ft = train_model(model_ft, criterion, optimizer_ft, exp_lr_scheduler, num_epochs=10)"
      ]
    },
    {
      "cell_type": "code",
      "execution_count": null,
      "metadata": {
        "colab": {
          "base_uri": "https://localhost:8080/",
          "height": 428
        },
        "id": "FSbOLaow0HGV",
        "outputId": "1c80a39c-e99b-4f1d-c6c7-66e07ad6027f"
      },
      "outputs": [
        {
          "output_type": "display_data",
          "data": {
            "text/plain": [
              "<Figure size 864x504 with 2 Axes>"
            ],
            "image/png": "[encoded data removed]"
          },
          "metadata": {
            "needs_background": "light"
          }
        }
      ],
      "source": [
        "y_pred = []\n",
        "y_true = []\n",
        "\n",
        "mean = (109.25825267789307, 116.46286943178183, 128.88798684144632)\n",
        "std = (54.269946772031666, 58.04371729089041, 71.18820872545112)\n",
        "\n",
        "def normal_dist(x, mean, sd):\n",
        "  prob_density = (np.pi*sd) * np.exp(-.5*((x-mean)/sd)**2)\n",
        "  return prob_density\n",
        "\n",
        "# iterate over test data\n",
        "for inputs, labels in test_loader:\n",
        "        inputs = inputs.to(device)\n",
        "        output = model_ft(inputs) # Feed Network\n",
        "\n",
        "        output = (torch.max(torch.exp(output), 1)[1]).data.cpu().numpy()\n",
        "        y_pred.extend(output) # Save Prediction\n",
        "        \n",
        "        labels = labels.data.cpu().numpy()\n",
        "        y_true.extend(labels) # Save Truth\n",
        "\n",
        "# Build confusion matrix\n",
        "cf_matrix = confusion_matrix(y_true, y_pred)\n",
        "df_cm = pd.DataFrame(cf_matrix, index = [i for i in class_names],\n",
        "                     columns = [i for i in class_names])\n",
        "plt.figure(figsize = (12,7))\n",
        "sn.heatmap(df_cm, annot=True)\n",
        "plt.savefig('output.png')"
      ]
    }
  ],
  "metadata": {
    "accelerator": "GPU",
    "colab": {
      "provenance": []
    },
    "gpuClass": "standard",
    "kernelspec": {
      "display_name": "Python 3",
      "name": "python3"
    },
    "language_info": {
      "name": "python"
    }
  },
  "nbformat": 4,
  "nbformat_minor": 0
}